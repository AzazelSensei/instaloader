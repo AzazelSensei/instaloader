{
 "cells": [
  {
   "cell_type": "code",
   "execution_count": 1,
   "metadata": {},
   "outputs": [
    {
     "ename": "ConnectionException",
     "evalue": "Login error: Unexpected response, this might indicate a blocked IP.",
     "output_type": "error",
     "traceback": [
      "\u001b[1;31m---------------------------------------------------------------------------\u001b[0m",
      "\u001b[1;31mConnectionException\u001b[0m                       Traceback (most recent call last)",
      "\u001b[1;32mc:\\Users\\abdul\\Desktop\\Project\\Untitled-1.ipynb Cell 1\u001b[0m in \u001b[0;36m<cell line: 9>\u001b[1;34m()\u001b[0m\n\u001b[0;32m      <a href='vscode-notebook-cell:/c%3A/Users/abdul/Desktop/Project/Untitled-1.ipynb#W0sZmlsZQ%3D%3D?line=6'>7</a>\u001b[0m username \u001b[39m=\u001b[39m \u001b[39m\"\u001b[39m\u001b[39m00000\u001b[39m\u001b[39m\"\u001b[39m\n\u001b[0;32m      <a href='vscode-notebook-cell:/c%3A/Users/abdul/Desktop/Project/Untitled-1.ipynb#W0sZmlsZQ%3D%3D?line=7'>8</a>\u001b[0m password \u001b[39m=\u001b[39m \u001b[39m\"\u001b[39m\u001b[39m000000*\u001b[39m\u001b[39m\"\u001b[39m\n\u001b[1;32m----> <a href='vscode-notebook-cell:/c%3A/Users/abdul/Desktop/Project/Untitled-1.ipynb#W0sZmlsZQ%3D%3D?line=8'>9</a>\u001b[0m L\u001b[39m.\u001b[39;49mlogin(username, password)  \u001b[39m# (login)\u001b[39;00m\n\u001b[0;32m     <a href='vscode-notebook-cell:/c%3A/Users/abdul/Desktop/Project/Untitled-1.ipynb#W0sZmlsZQ%3D%3D?line=10'>11</a>\u001b[0m \u001b[39m# Obtain profile metadata\u001b[39;00m\n\u001b[0;32m     <a href='vscode-notebook-cell:/c%3A/Users/abdul/Desktop/Project/Untitled-1.ipynb#W0sZmlsZQ%3D%3D?line=11'>12</a>\u001b[0m profile \u001b[39m=\u001b[39m instaloader\u001b[39m.\u001b[39mProfile\u001b[39m.\u001b[39mfrom_username(L\u001b[39m.\u001b[39mcontext, username)\n",
      "File \u001b[1;32m~\\AppData\\Local\\Packages\\PythonSoftwareFoundation.Python.3.10_qbz5n2kfra8p0\\LocalCache\\local-packages\\Python310\\site-packages\\instaloader\\instaloader.py:634\u001b[0m, in \u001b[0;36mInstaloader.login\u001b[1;34m(self, user, passwd)\u001b[0m\n\u001b[0;32m    626\u001b[0m \u001b[39mdef\u001b[39;00m \u001b[39mlogin\u001b[39m(\u001b[39mself\u001b[39m, user: \u001b[39mstr\u001b[39m, passwd: \u001b[39mstr\u001b[39m) \u001b[39m-\u001b[39m\u001b[39m>\u001b[39m \u001b[39mNone\u001b[39;00m:\n\u001b[0;32m    627\u001b[0m     \u001b[39m\"\"\"Log in to instagram with given username and password and internally store session object.\u001b[39;00m\n\u001b[0;32m    628\u001b[0m \n\u001b[0;32m    629\u001b[0m \u001b[39m    :raises InvalidArgumentException: If the provided username does not exist.\u001b[39;00m\n\u001b[1;32m   (...)\u001b[0m\n\u001b[0;32m    632\u001b[0m \u001b[39m    :raises TwoFactorAuthRequiredException: First step of 2FA login done, now call\u001b[39;00m\n\u001b[0;32m    633\u001b[0m \u001b[39m       :meth:`Instaloader.two_factor_login`.\"\"\"\u001b[39;00m\n\u001b[1;32m--> 634\u001b[0m     \u001b[39mself\u001b[39;49m\u001b[39m.\u001b[39;49mcontext\u001b[39m.\u001b[39;49mlogin(user, passwd)\n",
      "File \u001b[1;32m~\\AppData\\Local\\Packages\\PythonSoftwareFoundation.Python.3.10_qbz5n2kfra8p0\\LocalCache\\local-packages\\Python310\\site-packages\\instaloader\\instaloadercontext.py:253\u001b[0m, in \u001b[0;36mInstaloaderContext.login\u001b[1;34m(self, user, passwd)\u001b[0m\n\u001b[0;32m    251\u001b[0m         \u001b[39mraise\u001b[39;00m ConnectionException(\u001b[39m\"\u001b[39m\u001b[39mLogin error: Unexpected response, \u001b[39m\u001b[39m\\\"\u001b[39;00m\u001b[39m{}\u001b[39;00m\u001b[39m\\\"\u001b[39;00m\u001b[39m.\u001b[39m\u001b[39m\"\u001b[39m\u001b[39m.\u001b[39mformat(resp_json[\u001b[39m'\u001b[39m\u001b[39mmessage\u001b[39m\u001b[39m'\u001b[39m]))\n\u001b[0;32m    252\u001b[0m     \u001b[39melse\u001b[39;00m:\n\u001b[1;32m--> 253\u001b[0m         \u001b[39mraise\u001b[39;00m ConnectionException(\u001b[39m\"\u001b[39m\u001b[39mLogin error: Unexpected response, this might indicate a blocked IP.\u001b[39m\u001b[39m\"\u001b[39m)\n\u001b[0;32m    254\u001b[0m \u001b[39mif\u001b[39;00m \u001b[39mnot\u001b[39;00m resp_json[\u001b[39m'\u001b[39m\u001b[39mauthenticated\u001b[39m\u001b[39m'\u001b[39m]:\n\u001b[0;32m    255\u001b[0m     \u001b[39mif\u001b[39;00m resp_json[\u001b[39m'\u001b[39m\u001b[39muser\u001b[39m\u001b[39m'\u001b[39m]:\n\u001b[0;32m    256\u001b[0m         \u001b[39m# '{\"authenticated\": false, \"user\": true, \"status\": \"ok\"}'\u001b[39;00m\n",
      "\u001b[1;31mConnectionException\u001b[0m: Login error: Unexpected response, this might indicate a blocked IP."
     ]
    }
   ],
   "source": [
    "# Get instance\n",
    "import instaloader\n",
    "\n",
    "L = instaloader.Instaloader()\n",
    "\n",
    "# Login or load session\n",
    "username = \"00000\"\n",
    "password = \"000000*\"\n",
    "L.login(username, password)  # (login)\n",
    "\n",
    "# Obtain profile metadata\n",
    "profile = instaloader.Profile.from_username(L.context, username)\n",
    "\n",
    "# Print list of followees\n",
    "follow_list = []\n",
    "count = 0\n",
    "for followee in profile.get_followers():\n",
    "    follow_list.append(followee.username)\n",
    "    file = open(\"prada_followers.txt\", \"a+\")\n",
    "    file.write(follow_list[count])\n",
    "    file.write(\"\\n\")\n",
    "    file.close()\n",
    "    print(follow_list[count])\n",
    "    count = count + 1\n",
    "# (likewise with profile.get_followers())\n"
   ]
  }
 ],
 "metadata": {
  "kernelspec": {
   "display_name": "Python 3.10.6 64-bit (windows store)",
   "language": "python",
   "name": "python3"
  },
  "language_info": {
   "codemirror_mode": {
    "name": "ipython",
    "version": 3
   },
   "file_extension": ".py",
   "mimetype": "text/x-python",
   "name": "python",
   "nbconvert_exporter": "python",
   "pygments_lexer": "ipython3",
   "version": "3.10.6"
  },
  "orig_nbformat": 4,
  "vscode": {
   "interpreter": {
    "hash": "652d642533786c8cc8fd47a855e11456585ed8f5ab00e234c85a5ffc560df175"
   }
  }
 },
 "nbformat": 4,
 "nbformat_minor": 2
}
